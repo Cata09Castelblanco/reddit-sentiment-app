{
 "cells": [
  {
   "cell_type": "code",
   "execution_count": 9,
   "metadata": {},
   "outputs": [],
   "source": [
    "from dotenv import dotenv_values\n",
    "import praw\n",
    "import nltk\n",
    "from nltk.sentiment.vader import SentimentIntensityAnalyzer"
   ]
  },
  {
   "cell_type": "code",
   "execution_count": 10,
   "metadata": {},
   "outputs": [
    {
     "name": "stderr",
     "output_type": "stream",
     "text": [
      "[nltk_data] Downloading package vader_lexicon to\n",
      "[nltk_data]     C:\\Users\\seb\\AppData\\Roaming\\nltk_data...\n",
      "[nltk_data]   Package vader_lexicon is already up-to-date!\n"
     ]
    },
    {
     "data": {
      "text/plain": [
       "True"
      ]
     },
     "execution_count": 10,
     "metadata": {},
     "output_type": "execute_result"
    }
   ],
   "source": [
    "# Download the VADER lexicon\n",
    "nltk.download('vader_lexicon')"
   ]
  },
  {
   "cell_type": "code",
   "execution_count": 11,
   "metadata": {},
   "outputs": [],
   "source": [
    "# Load environment variables\n",
    "env = dotenv_values('./.env')"
   ]
  },
  {
   "cell_type": "code",
   "execution_count": 12,
   "metadata": {},
   "outputs": [],
   "source": [
    "# Set up Reddit API credentials\n",
    "reddit = praw.Reddit(\n",
    "    client_id=env['R_CLIENT_ID'],\n",
    "    client_secret=env['R_CLIENT_SECRET'],\n",
    "    user_agent=env['R_USER_AGENT']\n",
    ")"
   ]
  },
  {
   "cell_type": "code",
   "execution_count": 13,
   "metadata": {},
   "outputs": [
    {
     "data": {
      "text/plain": [
       "'127.0.0.1'"
      ]
     },
     "execution_count": 13,
     "metadata": {},
     "output_type": "execute_result"
    }
   ],
   "source": [
    "env['DB_SERVER']"
   ]
  },
  {
   "cell_type": "code",
   "execution_count": 14,
   "metadata": {},
   "outputs": [],
   "source": [
    "# Initialize the sentiment analyzer\n",
    "sia = SentimentIntensityAnalyzer()"
   ]
  },
  {
   "cell_type": "markdown",
   "metadata": {},
   "source": [
    "praw.models.Submission: \n",
    "https://praw.readthedocs.io/en/v7.7.1/code_overview/models/submission.html"
   ]
  },
  {
   "cell_type": "code",
   "execution_count": 15,
   "metadata": {},
   "outputs": [],
   "source": [
    "from time import sleep\n",
    "import database"
   ]
  },
  {
   "cell_type": "code",
   "execution_count": 16,
   "metadata": {},
   "outputs": [
    {
     "name": "stdout",
     "output_type": "stream",
     "text": [
      "Data inserted successfully.\n",
      "('1erfbea', {'id': '1erfbea', 'created_utc': 1723573636, 'num_comments': 18, 'score': 0, 'upvote_ratio': 0.25, 'sentiment': 0.0})\n",
      "Data inserted successfully.\n",
      "('1esdrk0', {'id': '1esdrk0', 'created_utc': 1723672122, 'num_comments': 5, 'score': 11, 'upvote_ratio': 0.74, 'sentiment': -0.7399})\n",
      "Data inserted successfully.\n",
      "('1esrxmx', {'id': '1esrxmx', 'created_utc': 1723718447, 'num_comments': 2, 'score': 6, 'upvote_ratio': 0.87, 'sentiment': -0.1779})\n",
      "Data inserted successfully.\n",
      "('1ety1i3', {'id': '1ety1i3', 'created_utc': 1723837515, 'num_comments': 37, 'score': 0, 'upvote_ratio': 0.41, 'sentiment': -0.27})\n",
      "Data inserted successfully.\n",
      "('1eu9fp2', {'id': '1eu9fp2', 'created_utc': 1723869559, 'num_comments': 20, 'score': 0, 'upvote_ratio': 0.15, 'sentiment': 0.8338})\n"
     ]
    }
   ],
   "source": [
    "# Stream post submissions in selected subreddit and analyze sentiment\n",
    "subreddit_name = 'Economics'\n",
    "\n",
    "subreddit = reddit.subreddit(subreddit_name)\n",
    "submission_data = {}  # submission data storage\n",
    "\n",
    "for submission in subreddit.stream.submissions():\n",
    "    if submission.stickied:  # if post is pinned, skip it\n",
    "        continue\n",
    "    if not submission.selftext:  # if post doesn't contain text, skip it\n",
    "        continue\n",
    "    \n",
    "    sentiment = sia.polarity_scores(submission.selftext)\n",
    "\n",
    "    submission_data[f\"{submission.id}\"] = {\\\n",
    "        'id': submission.id,\n",
    "        'created_utc': int(submission.created_utc),\n",
    "        'num_comments': submission.num_comments,\n",
    "        'score': submission.score,\n",
    "        'upvote_ratio': submission.upvote_ratio,\n",
    "        'sentiment': sentiment['compound']\n",
    "    }\n",
    "    \n",
    "    database.insert_row('sentiment', submission_data)\n",
    "\n",
    "    print(list(submission_data.items())[-1])  ## DEBUG: print last submission collected"
   ]
  }
 ],
 "metadata": {
  "kernelspec": {
   "display_name": "base",
   "language": "python",
   "name": "python3"
  },
  "language_info": {
   "codemirror_mode": {
    "name": "ipython",
    "version": 3
   },
   "file_extension": ".py",
   "mimetype": "text/x-python",
   "name": "python",
   "nbconvert_exporter": "python",
   "pygments_lexer": "ipython3",
   "version": "3.12.2"
  }
 },
 "nbformat": 4,
 "nbformat_minor": 2
}
