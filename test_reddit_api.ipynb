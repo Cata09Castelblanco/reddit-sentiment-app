{
 "cells": [
  {
   "cell_type": "code",
   "execution_count": 73,
   "metadata": {},
   "outputs": [],
   "source": [
    "from dotenv import dotenv_values\n",
    "import praw\n",
    "import nltk\n",
    "from nltk.sentiment.vader import SentimentIntensityAnalyzer"
   ]
  },
  {
   "cell_type": "code",
   "execution_count": 74,
   "metadata": {},
   "outputs": [
    {
     "name": "stderr",
     "output_type": "stream",
     "text": [
      "[nltk_data] Downloading package vader_lexicon to\n",
      "[nltk_data]     C:\\Users\\seb\\AppData\\Roaming\\nltk_data...\n",
      "[nltk_data]   Package vader_lexicon is already up-to-date!\n"
     ]
    },
    {
     "data": {
      "text/plain": [
       "True"
      ]
     },
     "execution_count": 74,
     "metadata": {},
     "output_type": "execute_result"
    }
   ],
   "source": [
    "# Download the VADER lexicon\n",
    "nltk.download('vader_lexicon')"
   ]
  },
  {
   "cell_type": "code",
   "execution_count": 84,
   "metadata": {},
   "outputs": [],
   "source": [
    "# Set up credentials\n",
    "env = dotenv_values('.env')\n",
    "reddit = praw.Reddit(\n",
    "    client_id=env['CLIENT_ID'],\n",
    "    client_secret=env['CLIENT_SECRET'],\n",
    "    user_agent=env['USER_AGENT']\n",
    ")"
   ]
  },
  {
   "cell_type": "code",
   "execution_count": 79,
   "metadata": {},
   "outputs": [],
   "source": [
    "# Initialize the sentiment analyzer\n",
    "sia = SentimentIntensityAnalyzer()"
   ]
  },
  {
   "cell_type": "code",
   "execution_count": 80,
   "metadata": {},
   "outputs": [
    {
     "name": "stdout",
     "output_type": "stream",
     "text": [
      "Comment: Biden has a pulse and was set to lose to him in November. \n",
      "\n",
      "Trump was a strong favorite against Biden and was beating him in the polls. , Sentiment: {'neg': 0.173, 'neu': 0.636, 'pos': 0.191, 'compound': 0.1531}\n",
      "Comment: You lost me at bidenomics ‘slowly strengthen the middle class’ l m a o, Sentiment: {'neg': 0.183, 'neu': 0.635, 'pos': 0.183, 'compound': 0.0}\n",
      "Comment: Mine is 17.20. Also in my Roth IRA, Sentiment: {'neg': 0.0, 'neu': 1.0, 'pos': 0.0, 'compound': 0.0}\n",
      "Comment: that is a huge facility in the new orleans area, and has a history of working on space hardware.  looks like boeing managed to find a way to lose competency, jeez - that was not easy to do, but Boeing found a way., Sentiment: {'neg': 0.087, 'neu': 0.83, 'pos': 0.083, 'compound': -0.0395}\n",
      "Comment: 🌽 ![img](emote|t5_2th52|4276), Sentiment: {'neg': 0.0, 'neu': 1.0, 'pos': 0.0, 'compound': 0.0}\n",
      "Comment: Sweet. Now I’m only down 98% on my TLRY, Sentiment: {'neg': 0.0, 'neu': 0.727, 'pos': 0.273, 'compound': 0.4588}\n",
      "Comment: Can't wait for the bears to hear this and doomsay for the next month straight about it, Sentiment: {'neg': 0.0, 'neu': 0.894, 'pos': 0.106, 'compound': 0.2263}\n",
      "Comment: https://www.wired.com/story/astronaut-scott-kelly-explains-how-the-iss-is-like-harris-county-jail/, Sentiment: {'neg': 0.0, 'neu': 1.0, 'pos': 0.0, 'compound': 0.0}\n",
      "Comment: Shut up ber ![img](emote|t5_2th52|4267)![img](emote|t5_2th52|4271), Sentiment: {'neg': 0.0, 'neu': 1.0, 'pos': 0.0, 'compound': 0.0}\n",
      "Comment: They believe the election was stolen and stockpile MREs, Sentiment: {'neg': 0.286, 'neu': 0.714, 'pos': 0.0, 'compound': -0.4939}\n",
      "Comment: Every time I see a comment like this I think to myself \"this motherfucker probably just read this exact piece of info on wsb like a week ago\", Sentiment: {'neg': 0.175, 'neu': 0.667, 'pos': 0.159, 'compound': -0.3612}\n",
      "Comment: I had my first sex with secretary when I was young, got the easiest job I've ever had from a secretary, and got a 50% raise this year from a secretary. Moral of the story : a secretary can make or break you, Sentiment: {'neg': 0.0, 'neu': 0.926, 'pos': 0.074, 'compound': 0.4215}\n",
      "Comment: Intel is going to make a come back, the US government will not let them fail. When your primary hope is that you will be saved by the government, your situation is pretty dire. \n",
      "\n",
      "Still, the decentralization of chip design and manufacture is a national security issue., Sentiment: {'neg': 0.053, 'neu': 0.695, 'pos': 0.252, 'compound': 0.8793}\n",
      "Comment: I get 7% annual dividend off a stock that has gained 30% this year sitting in my tax free account. Doesn't feel pointless to me., Sentiment: {'neg': 0.0, 'neu': 0.781, 'pos': 0.219, 'compound': 0.7096}\n",
      "Comment: I’m one trade away from bankruptcy, and one trade away from eating wagyu steaks…, Sentiment: {'neg': 0.0, 'neu': 1.0, 'pos': 0.0, 'compound': 0.0}\n",
      "Comment: What sucks for intel guy is the fact that the stock went down only 30%. But to get back his losses he now needs a 50% gain, Sentiment: {'neg': 0.161, 'neu': 0.699, 'pos': 0.14, 'compound': 0.0772}\n",
      "Comment: What’s your reasoning, Sentiment: {'neg': 0.0, 'neu': 1.0, 'pos': 0.0, 'compound': 0.0}\n",
      "Comment: Always has been, Sentiment: {'neg': 0.0, 'neu': 1.0, 'pos': 0.0, 'compound': 0.0}\n",
      "Comment: U going sideways on earnings is best news all week![img](emote|t5_2th52|29637), Sentiment: {'neg': 0.0, 'neu': 0.64, 'pos': 0.36, 'compound': 0.6696}\n",
      "Comment: You’re making me want to buy more ![img](emote|t5_2th52|4275), Sentiment: {'neg': 0.0, 'neu': 0.815, 'pos': 0.185, 'compound': 0.1511}\n",
      "Comment: Also not listening to an op that doesn’t know difference between loose and lose. JFC, Sentiment: {'neg': 0.278, 'neu': 0.722, 'pos': 0.0, 'compound': -0.6124}\n",
      "Comment:  👀 ASTS, Sentiment: {'neg': 0.0, 'neu': 1.0, 'pos': 0.0, 'compound': 0.0}\n",
      "Comment: If Iran gets nuked tonight I'll be a millionaire in the morning. I'll donate at least $350 to the relief effort., Sentiment: {'neg': 0.0, 'neu': 0.86, 'pos': 0.14, 'compound': 0.4767}\n",
      "Comment: The old MBB trick: use something like 40% for probabilities. 50-50: a coin toss, don’t need a coke fueled management consultant. 30-70: you moron told me there is a 70% chance!. 40-60 or 35-65: prudent, makes sense. I’ll pay you a gazillion dollars for your monkey bet., Sentiment: {'neg': 0.128, 'neu': 0.819, 'pos': 0.053, 'compound': -0.3802}\n",
      "Comment: I hear you.  I watch this put all day and the volume trickles in 1 or 5 contracts at a time.  \n",
      "\n",
      "When big volume comes in I take a look at the corresponding call volume If there is any. \n",
      "\n",
      "It's either a nothing burger hedging or someone making a directional bearish bet with a lot of money., Sentiment: {'neg': 0.0, 'neu': 0.975, 'pos': 0.025, 'compound': 0.0516}\n",
      "Comment: Robinhoods user interface is nice but I hate you can't add indicators idk if you can on gold but I like webull and MooMoo ive gotten used to Tradingview also but for free charting Webull and MooMoo, Sentiment: {'neg': 0.11, 'neu': 0.651, 'pos': 0.24, 'compound': 0.6116}\n",
      "Comment: Intel fuckery, look its 1997 all over again, Sentiment: {'neg': 0.0, 'neu': 1.0, 'pos': 0.0, 'compound': 0.0}\n",
      "Comment: Until future data prints further confirm, doesn’t matter right now, Sentiment: {'neg': 0.0, 'neu': 0.891, 'pos': 0.109, 'compound': 0.0258}\n",
      "Comment: Agree with the CELH.  Not so sure with the NVDA play ., Sentiment: {'neg': 0.161, 'neu': 0.52, 'pos': 0.319, 'compound': 0.3456}\n",
      "Comment: There’s nothing relevant to the US economy from Russia’s war in Ukraine except we have a bigger economy from more jobs in the defense sector \n",
      "\n",
      "The only thing that’s relevant here is China spooking investors with its rhetoric, debt and inflation don’t matter nearly as much evidenced by the S&P, Sentiment: {'neg': 0.119, 'neu': 0.833, 'pos': 0.048, 'compound': -0.7003}\n",
      "Comment: What happens if we watch Boeing let those astronauts slowly attack to death?, Sentiment: {'neg': 0.389, 'neu': 0.611, 'pos': 0.0, 'compound': -0.7906}\n"
     ]
    },
    {
     "ename": "KeyboardInterrupt",
     "evalue": "",
     "output_type": "error",
     "traceback": [
      "\u001b[1;31m---------------------------------------------------------------------------\u001b[0m",
      "\u001b[1;31mKeyboardInterrupt\u001b[0m                         Traceback (most recent call last)",
      "Cell \u001b[1;32mIn[80], line 4\u001b[0m\n\u001b[0;32m      2\u001b[0m subreddit \u001b[38;5;241m=\u001b[39m reddit\u001b[38;5;241m.\u001b[39msubreddit(\u001b[38;5;124m'\u001b[39m\u001b[38;5;124mWallStreetBets\u001b[39m\u001b[38;5;124m'\u001b[39m)\n\u001b[0;32m      3\u001b[0m sentiments \u001b[38;5;241m=\u001b[39m []\n\u001b[1;32m----> 4\u001b[0m \u001b[38;5;28;43;01mfor\u001b[39;49;00m\u001b[43m \u001b[49m\u001b[43mcomment\u001b[49m\u001b[43m \u001b[49m\u001b[38;5;129;43;01min\u001b[39;49;00m\u001b[43m \u001b[49m\u001b[43msubreddit\u001b[49m\u001b[38;5;241;43m.\u001b[39;49m\u001b[43mstream\u001b[49m\u001b[38;5;241;43m.\u001b[39;49m\u001b[43mcomments\u001b[49m\u001b[43m(\u001b[49m\u001b[43mskip_existing\u001b[49m\u001b[38;5;241;43m=\u001b[39;49m\u001b[38;5;28;43;01mTrue\u001b[39;49;00m\u001b[43m)\u001b[49m\u001b[43m:\u001b[49m\n\u001b[0;32m      5\u001b[0m \u001b[43m    \u001b[49m\u001b[43msentiment\u001b[49m\u001b[43m \u001b[49m\u001b[38;5;241;43m=\u001b[39;49m\u001b[43m \u001b[49m\u001b[43msia\u001b[49m\u001b[38;5;241;43m.\u001b[39;49m\u001b[43mpolarity_scores\u001b[49m\u001b[43m(\u001b[49m\u001b[43mcomment\u001b[49m\u001b[38;5;241;43m.\u001b[39;49m\u001b[43mbody\u001b[49m\u001b[43m)\u001b[49m\n\u001b[0;32m      6\u001b[0m \u001b[43m    \u001b[49m\u001b[43msentiments\u001b[49m\u001b[38;5;241;43m.\u001b[39;49m\u001b[43mappend\u001b[49m\u001b[43m(\u001b[49m\u001b[43msentiment\u001b[49m\u001b[43m[\u001b[49m\u001b[38;5;124;43m'\u001b[39;49m\u001b[38;5;124;43mcompound\u001b[39;49m\u001b[38;5;124;43m'\u001b[39;49m\u001b[43m]\u001b[49m\u001b[43m)\u001b[49m\n",
      "File \u001b[1;32mc:\\Users\\seb\\miniconda3\\Lib\\site-packages\\praw\\models\\util.py:161\u001b[0m, in \u001b[0;36mstream_generator\u001b[1;34m(function, attribute_name, exclude_before, pause_after, skip_existing, **function_kwargs)\u001b[0m\n\u001b[0;32m    159\u001b[0m     \u001b[38;5;28;01myield\u001b[39;00m \u001b[38;5;28;01mNone\u001b[39;00m\n\u001b[0;32m    160\u001b[0m \u001b[38;5;28;01melse\u001b[39;00m:\n\u001b[1;32m--> 161\u001b[0m     \u001b[43mtime\u001b[49m\u001b[38;5;241;43m.\u001b[39;49m\u001b[43msleep\u001b[49m\u001b[43m(\u001b[49m\u001b[43mexponential_counter\u001b[49m\u001b[38;5;241;43m.\u001b[39;49m\u001b[43mcounter\u001b[49m\u001b[43m(\u001b[49m\u001b[43m)\u001b[49m\u001b[43m)\u001b[49m\n",
      "\u001b[1;31mKeyboardInterrupt\u001b[0m: "
     ]
    }
   ],
   "source": [
    "# Stream comments from r/WallStreetBets and analyze sentiment\n",
    "subreddit = reddit.subreddit('WallStreetBets')\n",
    "sentiments = []\n",
    "for comment in subreddit.stream.comments(skip_existing=True):\n",
    "    sentiment = sia.polarity_scores(comment.body)\n",
    "    sentiments.append(sentiment['compound'])\n",
    "    print(f\"Comment: {comment.body}, Sentiment: {sentiment}\")"
   ]
  },
  {
   "cell_type": "code",
   "execution_count": 81,
   "metadata": {},
   "outputs": [
    {
     "data": {
      "text/plain": [
       "[0.1531,\n",
       " 0.0,\n",
       " 0.0,\n",
       " -0.0395,\n",
       " 0.0,\n",
       " 0.4588,\n",
       " 0.2263,\n",
       " 0.0,\n",
       " 0.0,\n",
       " -0.4939,\n",
       " -0.3612,\n",
       " 0.4215,\n",
       " 0.8793,\n",
       " 0.7096,\n",
       " 0.0,\n",
       " 0.0772,\n",
       " 0.0,\n",
       " 0.0,\n",
       " 0.6696,\n",
       " 0.1511,\n",
       " -0.6124,\n",
       " 0.0,\n",
       " 0.4767,\n",
       " -0.3802,\n",
       " 0.0516,\n",
       " 0.6116,\n",
       " 0.0,\n",
       " 0.0258,\n",
       " 0.3456,\n",
       " -0.7003,\n",
       " -0.7906]"
      ]
     },
     "execution_count": 81,
     "metadata": {},
     "output_type": "execute_result"
    }
   ],
   "source": [
    "sentiments"
   ]
  }
 ],
 "metadata": {
  "kernelspec": {
   "display_name": "base",
   "language": "python",
   "name": "python3"
  },
  "language_info": {
   "codemirror_mode": {
    "name": "ipython",
    "version": 3
   },
   "file_extension": ".py",
   "mimetype": "text/x-python",
   "name": "python",
   "nbconvert_exporter": "python",
   "pygments_lexer": "ipython3",
   "version": "3.12.2"
  }
 },
 "nbformat": 4,
 "nbformat_minor": 2
}
