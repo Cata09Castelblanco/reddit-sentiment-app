{
 "cells": [
  {
   "cell_type": "code",
   "execution_count": 22,
   "metadata": {},
   "outputs": [],
   "source": [
    "from dotenv import dotenv_values\n",
    "import praw\n",
    "import nltk\n",
    "from nltk.sentiment.vader import SentimentIntensityAnalyzer"
   ]
  },
  {
   "cell_type": "code",
   "execution_count": 23,
   "metadata": {},
   "outputs": [
    {
     "name": "stderr",
     "output_type": "stream",
     "text": [
      "[nltk_data] Downloading package vader_lexicon to\n",
      "[nltk_data]     C:\\Users\\seb\\AppData\\Roaming\\nltk_data...\n",
      "[nltk_data]   Package vader_lexicon is already up-to-date!\n"
     ]
    },
    {
     "data": {
      "text/plain": [
       "True"
      ]
     },
     "execution_count": 23,
     "metadata": {},
     "output_type": "execute_result"
    }
   ],
   "source": [
    "# Download the VADER lexicon\n",
    "nltk.download('vader_lexicon')"
   ]
  },
  {
   "cell_type": "code",
   "execution_count": 24,
   "metadata": {},
   "outputs": [],
   "source": [
    "# Load environment variables\n",
    "env = dotenv_values('./.env')"
   ]
  },
  {
   "cell_type": "code",
   "execution_count": 25,
   "metadata": {},
   "outputs": [],
   "source": [
    "# Set up Reddit API credentials\n",
    "reddit = praw.Reddit(\n",
    "    client_id=env['R_CLIENT_ID'],\n",
    "    client_secret=env['R_CLIENT_SECRET'],\n",
    "    user_agent=env['R_USER_AGENT']\n",
    ")"
   ]
  },
  {
   "cell_type": "code",
   "execution_count": 26,
   "metadata": {},
   "outputs": [],
   "source": [
    "# Initialize the sentiment analyzer\n",
    "sia = SentimentIntensityAnalyzer()"
   ]
  },
  {
   "cell_type": "markdown",
   "metadata": {},
   "source": [
    "praw.models.Submission: \n",
    "https://praw.readthedocs.io/en/v7.7.1/code_overview/models/submission.html"
   ]
  },
  {
   "cell_type": "code",
   "execution_count": 27,
   "metadata": {},
   "outputs": [],
   "source": [
    "from time import sleep"
   ]
  },
  {
   "cell_type": "code",
   "execution_count": 28,
   "metadata": {},
   "outputs": [
    {
     "name": "stdout",
     "output_type": "stream",
     "text": [
      "('1esnkj2', {'num_comments': 329, 'score': 1210, 'upvote_ratio': 0.9, 'sentiment': 0.0631})\n",
      "('1esoav3', {'num_comments': 121, 'score': 242, 'upvote_ratio': 0.89, 'sentiment': 0.6166})\n",
      "('1espi86', {'num_comments': 11, 'score': 15, 'upvote_ratio': 0.8, 'sentiment': -0.3818})\n",
      "('1esqryb', {'num_comments': 15, 'score': 0, 'upvote_ratio': 0.31, 'sentiment': 0.6536})\n",
      "('1esr9gi', {'num_comments': 13510, 'score': 317, 'upvote_ratio': 0.92, 'sentiment': 0.0})\n",
      "('1ess1mb', {'num_comments': 87, 'score': 0, 'upvote_ratio': 0.47, 'sentiment': 0.9331})\n",
      "('1esu8wh', {'num_comments': 111, 'score': 407, 'upvote_ratio': 0.9, 'sentiment': 0.3244})\n",
      "('1esujkz', {'num_comments': 16, 'score': 60, 'upvote_ratio': 0.9, 'sentiment': 0.0})\n",
      "('1esvd12', {'num_comments': 10, 'score': 45, 'upvote_ratio': 0.92, 'sentiment': -0.5574})\n",
      "('1esvk0o', {'num_comments': 10, 'score': 3, 'upvote_ratio': 0.62, 'sentiment': 0.5719})\n",
      "('1eswty1', {'num_comments': 1, 'score': 7, 'upvote_ratio': 0.89, 'sentiment': 0.6908})\n",
      "('1eswveu', {'num_comments': 31, 'score': 123, 'upvote_ratio': 0.95, 'sentiment': 0.5859})\n",
      "('1esx3ai', {'num_comments': 637, 'score': 2475, 'upvote_ratio': 0.93, 'sentiment': 0.3054})\n",
      "('1esx89w', {'num_comments': 20, 'score': 0, 'upvote_ratio': 0.42, 'sentiment': -0.7351})\n",
      "('1esxasv', {'num_comments': 43, 'score': 0, 'upvote_ratio': 0.39, 'sentiment': 0.5514})\n",
      "('1esxdkz', {'num_comments': 8, 'score': 13, 'upvote_ratio': 0.79, 'sentiment': 0.0})\n",
      "('1esxpy4', {'num_comments': 19, 'score': 79, 'upvote_ratio': 0.9, 'sentiment': 0.4404})\n",
      "('1esxtcx', {'num_comments': 3, 'score': 6, 'upvote_ratio': 0.88, 'sentiment': -0.3182})\n",
      "('1esxuc9', {'num_comments': 12, 'score': 2, 'upvote_ratio': 0.58, 'sentiment': 0.0})\n",
      "('1esxz4j', {'num_comments': 37, 'score': 48, 'upvote_ratio': 0.79, 'sentiment': 0.0})\n",
      "('1esy5lr', {'num_comments': 17, 'score': 74, 'upvote_ratio': 0.92, 'sentiment': 0.4588})\n",
      "('1esy9uy', {'num_comments': 34, 'score': 10, 'upvote_ratio': 0.68, 'sentiment': -0.1531})\n",
      "('1esymsp', {'num_comments': 8, 'score': 5, 'upvote_ratio': 0.78, 'sentiment': -0.3736})\n",
      "('1esywq3', {'num_comments': 46, 'score': 269, 'upvote_ratio': 0.93, 'sentiment': -0.807})\n",
      "('1esz15v', {'num_comments': 1, 'score': 2, 'upvote_ratio': 0.75, 'sentiment': 0.743})\n",
      "('1esz2g4', {'num_comments': 8, 'score': 13, 'upvote_ratio': 0.74, 'sentiment': 0.4404})\n",
      "('1esz3sm', {'num_comments': 6, 'score': 9, 'upvote_ratio': 0.76, 'sentiment': 0.296})\n",
      "('1eszdj6', {'num_comments': 12, 'score': 9, 'upvote_ratio': 0.8, 'sentiment': -0.6187})\n",
      "('1eszso8', {'num_comments': 31, 'score': 68, 'upvote_ratio': 0.91, 'sentiment': 0.1531})\n",
      "('1et0fwd', {'num_comments': 4, 'score': 27, 'upvote_ratio': 0.92, 'sentiment': 0.0})\n",
      "('1et0pwa', {'num_comments': 10, 'score': 1, 'upvote_ratio': 0.53, 'sentiment': 0.6808})\n",
      "('1et0qql', {'num_comments': 15, 'score': 9, 'upvote_ratio': 0.8, 'sentiment': 0.9743})\n",
      "('1et0sjv', {'num_comments': 6, 'score': 19, 'upvote_ratio': 0.88, 'sentiment': 0.6588})\n",
      "('1et0xcf', {'num_comments': 38, 'score': 16, 'upvote_ratio': 0.83, 'sentiment': -0.6361})\n",
      "('1et1032', {'num_comments': 602, 'score': 3738, 'upvote_ratio': 0.95, 'sentiment': 0.7184})\n",
      "('1et1fdb', {'num_comments': 8, 'score': 50, 'upvote_ratio': 0.89, 'sentiment': 0.6908})\n",
      "('1et1k5d', {'num_comments': 4, 'score': 4, 'upvote_ratio': 0.83, 'sentiment': 0.4215})\n",
      "('1et1lcn', {'num_comments': 10, 'score': 60, 'upvote_ratio': 0.92, 'sentiment': 0.0})\n",
      "('1et1sj2', {'num_comments': 15, 'score': 46, 'upvote_ratio': 0.87, 'sentiment': 0.4927})\n",
      "('1et204t', {'num_comments': 24, 'score': 32, 'upvote_ratio': 0.88, 'sentiment': 0.3489})\n",
      "('1et2441', {'num_comments': 90, 'score': 77, 'upvote_ratio': 0.88, 'sentiment': 0.0})\n",
      "('1et31dt', {'num_comments': 21, 'score': 11, 'upvote_ratio': 0.76, 'sentiment': 0.5719})\n",
      "('1et45ox', {'num_comments': 20, 'score': 4, 'upvote_ratio': 0.62, 'sentiment': 0.0})\n",
      "('1et4f8x', {'num_comments': 5, 'score': 2, 'upvote_ratio': 0.75, 'sentiment': -0.7804})\n",
      "('1et5128', {'num_comments': 24, 'score': 16, 'upvote_ratio': 0.81, 'sentiment': -0.5994})\n",
      "('1et57ak', {'num_comments': 35, 'score': 84, 'upvote_ratio': 0.94, 'sentiment': 0.296})\n",
      "('1et5mhm', {'num_comments': 3, 'score': 5, 'upvote_ratio': 0.78, 'sentiment': 0.4019})\n",
      "('1et5mzh', {'num_comments': 2, 'score': 23, 'upvote_ratio': 0.9, 'sentiment': 0.0})\n",
      "('1et5oy3', {'num_comments': 5, 'score': 10, 'upvote_ratio': 0.86, 'sentiment': -0.5574})\n",
      "('1et5x2q', {'num_comments': 13, 'score': 27, 'upvote_ratio': 0.82, 'sentiment': 0.6834})\n",
      "('1et60g8', {'num_comments': 20, 'score': 41, 'upvote_ratio': 0.86, 'sentiment': 0.9512})\n",
      "('1et65pq', {'num_comments': 12, 'score': 3, 'upvote_ratio': 0.8, 'sentiment': -0.7667})\n",
      "('1et6601', {'num_comments': 2, 'score': 4, 'upvote_ratio': 0.83, 'sentiment': 0.8807})\n",
      "('1et66h3', {'num_comments': 8, 'score': 0, 'upvote_ratio': 0.5, 'sentiment': 0.5738})\n",
      "('1et6csl', {'num_comments': 21, 'score': 0, 'upvote_ratio': 0.44, 'sentiment': -0.1779})\n",
      "('1et6g88', {'num_comments': 8, 'score': 17, 'upvote_ratio': 0.9, 'sentiment': 0.7297})\n",
      "('1et6th4', {'num_comments': 1, 'score': 7, 'upvote_ratio': 0.82, 'sentiment': 0.0})\n",
      "('1et6wom', {'num_comments': 11, 'score': 11, 'upvote_ratio': 0.87, 'sentiment': 0.0})\n",
      "('1et7gaw', {'num_comments': 5, 'score': 8, 'upvote_ratio': 0.9, 'sentiment': 0.4871})\n",
      "('1et82tl', {'num_comments': 1, 'score': 6, 'upvote_ratio': 1.0, 'sentiment': 0.4404})\n",
      "('1et8dzj', {'num_comments': 7, 'score': 0, 'upvote_ratio': 0.5, 'sentiment': 0.906})\n",
      "('1et8qbz', {'num_comments': 1, 'score': 1, 'upvote_ratio': 1.0, 'sentiment': 0.5885})\n"
     ]
    },
    {
     "ename": "KeyboardInterrupt",
     "evalue": "",
     "output_type": "error",
     "traceback": [
      "\u001b[1;31m---------------------------------------------------------------------------\u001b[0m",
      "\u001b[1;31mKeyboardInterrupt\u001b[0m                         Traceback (most recent call last)",
      "Cell \u001b[1;32mIn[28], line 7\u001b[0m\n\u001b[0;32m      4\u001b[0m subreddit \u001b[38;5;241m=\u001b[39m reddit\u001b[38;5;241m.\u001b[39msubreddit(subreddit_name)\n\u001b[0;32m      5\u001b[0m submission_data \u001b[38;5;241m=\u001b[39m {}  \u001b[38;5;66;03m# submission data storage\u001b[39;00m\n\u001b[1;32m----> 7\u001b[0m \u001b[38;5;28;43;01mfor\u001b[39;49;00m\u001b[43m \u001b[49m\u001b[43msubmission\u001b[49m\u001b[43m \u001b[49m\u001b[38;5;129;43;01min\u001b[39;49;00m\u001b[43m \u001b[49m\u001b[43msubreddit\u001b[49m\u001b[38;5;241;43m.\u001b[39;49m\u001b[43mstream\u001b[49m\u001b[38;5;241;43m.\u001b[39;49m\u001b[43msubmissions\u001b[49m\u001b[43m(\u001b[49m\u001b[43m)\u001b[49m\u001b[43m:\u001b[49m\n\u001b[0;32m      8\u001b[0m \u001b[43m    \u001b[49m\u001b[38;5;28;43;01mif\u001b[39;49;00m\u001b[43m \u001b[49m\u001b[43msubmission\u001b[49m\u001b[38;5;241;43m.\u001b[39;49m\u001b[43mstickied\u001b[49m\u001b[43m:\u001b[49m\u001b[43m  \u001b[49m\u001b[38;5;66;43;03m# if post is pinned, skip it\u001b[39;49;00m\n\u001b[0;32m      9\u001b[0m \u001b[43m        \u001b[49m\u001b[38;5;28;43;01mcontinue\u001b[39;49;00m\n",
      "File \u001b[1;32mc:\\Users\\seb\\miniconda3\\Lib\\site-packages\\praw\\models\\util.py:161\u001b[0m, in \u001b[0;36mstream_generator\u001b[1;34m(function, attribute_name, exclude_before, pause_after, skip_existing, **function_kwargs)\u001b[0m\n\u001b[0;32m    159\u001b[0m     \u001b[38;5;28;01myield\u001b[39;00m \u001b[38;5;28;01mNone\u001b[39;00m\n\u001b[0;32m    160\u001b[0m \u001b[38;5;28;01melse\u001b[39;00m:\n\u001b[1;32m--> 161\u001b[0m     \u001b[43mtime\u001b[49m\u001b[38;5;241;43m.\u001b[39;49m\u001b[43msleep\u001b[49m\u001b[43m(\u001b[49m\u001b[43mexponential_counter\u001b[49m\u001b[38;5;241;43m.\u001b[39;49m\u001b[43mcounter\u001b[49m\u001b[43m(\u001b[49m\u001b[43m)\u001b[49m\u001b[43m)\u001b[49m\n",
      "\u001b[1;31mKeyboardInterrupt\u001b[0m: "
     ]
    }
   ],
   "source": [
    "# Stream post submissions in selected subreddit and analyze sentiment\n",
    "subreddit_name = 'WallStreetBets'\n",
    "\n",
    "subreddit = reddit.subreddit(subreddit_name)\n",
    "submission_data = {}  # submission data storage\n",
    "\n",
    "for submission in subreddit.stream.submissions():\n",
    "    if submission.stickied:  # if post is pinned, skip it\n",
    "        continue\n",
    "    if not submission.selftext:  # if post doesn't contain text, skip it\n",
    "        continue\n",
    "    \n",
    "    sentiment = sia.polarity_scores(submission.selftext)\n",
    "\n",
    "    submission_data[f\"{submission.id}\"] = {\n",
    "        'num_comments': submission.num_comments,\n",
    "        'score': submission.score,\n",
    "        'upvote_ratio': submission.upvote_ratio,\n",
    "        'sentiment': sentiment['compound']\n",
    "    }\n",
    "\n",
    "    print(list(submission_data.items())[-1])  ## DEBUG: print last submission collected"
   ]
  }
 ],
 "metadata": {
  "kernelspec": {
   "display_name": "base",
   "language": "python",
   "name": "python3"
  },
  "language_info": {
   "codemirror_mode": {
    "name": "ipython",
    "version": 3
   },
   "file_extension": ".py",
   "mimetype": "text/x-python",
   "name": "python",
   "nbconvert_exporter": "python",
   "pygments_lexer": "ipython3",
   "version": "3.12.2"
  }
 },
 "nbformat": 4,
 "nbformat_minor": 2
}
