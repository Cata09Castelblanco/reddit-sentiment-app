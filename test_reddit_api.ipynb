{
 "cells": [
  {
   "cell_type": "code",
   "execution_count": 3,
   "metadata": {},
   "outputs": [],
   "source": [
    "from dotenv import dotenv_values\n",
    "import praw\n",
    "import nltk\n",
    "from nltk.sentiment.vader import SentimentIntensityAnalyzer"
   ]
  },
  {
   "cell_type": "code",
   "execution_count": 4,
   "metadata": {},
   "outputs": [
    {
     "name": "stderr",
     "output_type": "stream",
     "text": [
      "[nltk_data] Downloading package vader_lexicon to\n",
      "[nltk_data]     C:\\Users\\seb\\AppData\\Roaming\\nltk_data...\n",
      "[nltk_data]   Package vader_lexicon is already up-to-date!\n"
     ]
    },
    {
     "data": {
      "text/plain": [
       "True"
      ]
     },
     "execution_count": 4,
     "metadata": {},
     "output_type": "execute_result"
    }
   ],
   "source": [
    "# Download the VADER lexicon\n",
    "nltk.download('vader_lexicon')"
   ]
  },
  {
   "cell_type": "code",
   "execution_count": 5,
   "metadata": {},
   "outputs": [],
   "source": [
    "# Load environment variables\n",
    "env = dotenv_values('./.env')"
   ]
  },
  {
   "cell_type": "code",
   "execution_count": 6,
   "metadata": {},
   "outputs": [],
   "source": [
    "# Set up Reddit API credentials\n",
    "reddit = praw.Reddit(\n",
    "    client_id=env['R_CLIENT_ID'],\n",
    "    client_secret=env['R_CLIENT_SECRET'],\n",
    "    user_agent=env['R_USER_AGENT']\n",
    ")"
   ]
  },
  {
   "cell_type": "code",
   "execution_count": 7,
   "metadata": {},
   "outputs": [],
   "source": [
    "# Initialize the sentiment analyzer\n",
    "sia = SentimentIntensityAnalyzer()"
   ]
  },
  {
   "cell_type": "markdown",
   "metadata": {},
   "source": [
    "praw.models.Submission: \n",
    "https://praw.readthedocs.io/en/v7.7.1/code_overview/models/submission.html"
   ]
  },
  {
   "cell_type": "code",
   "execution_count": 14,
   "metadata": {},
   "outputs": [
    {
     "name": "stdout",
     "output_type": "stream",
     "text": [
      "('1eske3w', {'num_comments': 18, 'score': 45, 'upvote_ratio': 0.82, 'sentiment': 0.4019})\n",
      "('1esnjpg', {'num_comments': 465, 'score': 1786, 'upvote_ratio': 0.86, 'sentiment': 0.966})\n",
      "('1esnkj2', {'num_comments': 317, 'score': 1171, 'upvote_ratio': 0.9, 'sentiment': 0.0631})\n",
      "('1esoav3', {'num_comments': 121, 'score': 229, 'upvote_ratio': 0.88, 'sentiment': 0.6166})\n",
      "('1espi86', {'num_comments': 11, 'score': 15, 'upvote_ratio': 0.8, 'sentiment': -0.3818})\n",
      "('1esqryb', {'num_comments': 15, 'score': 0, 'upvote_ratio': 0.38, 'sentiment': 0.6536})\n",
      "('1esr9gi', {'num_comments': 13555, 'score': 316, 'upvote_ratio': 0.92, 'sentiment': 0.0})\n",
      "('1ess1mb', {'num_comments': 87, 'score': 0, 'upvote_ratio': 0.46, 'sentiment': 0.9331})\n",
      "('1esu8wh', {'num_comments': 110, 'score': 402, 'upvote_ratio': 0.9, 'sentiment': 0.3244})\n",
      "('1esujkz', {'num_comments': 15, 'score': 57, 'upvote_ratio': 0.9, 'sentiment': 0.0})\n",
      "('1esvd12', {'num_comments': 10, 'score': 44, 'upvote_ratio': 0.92, 'sentiment': -0.5574})\n",
      "('1esvk0o', {'num_comments': 10, 'score': 2, 'upvote_ratio': 0.57, 'sentiment': 0.5719})\n",
      "('1eswty1', {'num_comments': 1, 'score': 7, 'upvote_ratio': 0.82, 'sentiment': 0.6908})\n",
      "('1eswveu', {'num_comments': 31, 'score': 114, 'upvote_ratio': 0.94, 'sentiment': 0.5859})\n",
      "('1esx3ai', {'num_comments': 607, 'score': 2213, 'upvote_ratio': 0.93, 'sentiment': 0.3054})\n",
      "('1esx89w', {'num_comments': 20, 'score': 0, 'upvote_ratio': 0.4, 'sentiment': -0.7351})\n",
      "('1esxasv', {'num_comments': 43, 'score': 0, 'upvote_ratio': 0.41, 'sentiment': 0.5514})\n",
      "('1esxdkz', {'num_comments': 8, 'score': 12, 'upvote_ratio': 0.8, 'sentiment': 0.0})\n",
      "('1esxpy4', {'num_comments': 18, 'score': 74, 'upvote_ratio': 0.9, 'sentiment': 0.4404})\n",
      "('1esxtcx', {'num_comments': 3, 'score': 5, 'upvote_ratio': 0.78, 'sentiment': -0.3182})\n",
      "('1esxuc9', {'num_comments': 12, 'score': 2, 'upvote_ratio': 0.6, 'sentiment': 0.0})\n",
      "('1esxz4j', {'num_comments': 35, 'score': 42, 'upvote_ratio': 0.78, 'sentiment': 0.0})\n",
      "('1esy5lr', {'num_comments': 13, 'score': 67, 'upvote_ratio': 0.92, 'sentiment': 0.4588})\n",
      "('1esy9uy', {'num_comments': 30, 'score': 13, 'upvote_ratio': 0.76, 'sentiment': -0.1531})\n",
      "('1esymsp', {'num_comments': 8, 'score': 6, 'upvote_ratio': 0.8, 'sentiment': -0.3736})\n",
      "('1esywq3', {'num_comments': 42, 'score': 210, 'upvote_ratio': 0.93, 'sentiment': -0.807})\n",
      "('1esz15v', {'num_comments': 1, 'score': 2, 'upvote_ratio': 0.75, 'sentiment': 0.743})\n",
      "('1esz2g4', {'num_comments': 8, 'score': 13, 'upvote_ratio': 0.76, 'sentiment': 0.4404})\n",
      "('1esz3sm', {'num_comments': 6, 'score': 5, 'upvote_ratio': 0.65, 'sentiment': 0.296})\n",
      "('1eszdj6', {'num_comments': 12, 'score': 11, 'upvote_ratio': 0.87, 'sentiment': -0.6187})\n",
      "('1eszso8', {'num_comments': 28, 'score': 69, 'upvote_ratio': 0.92, 'sentiment': 0.1531})\n",
      "('1et0fwd', {'num_comments': 2, 'score': 21, 'upvote_ratio': 0.88, 'sentiment': 0.0})\n",
      "('1et0pwa', {'num_comments': 10, 'score': 1, 'upvote_ratio': 0.54, 'sentiment': 0.6808})\n",
      "('1et0qql', {'num_comments': 14, 'score': 6, 'upvote_ratio': 0.72, 'sentiment': 0.9743})\n",
      "('1et0sjv', {'num_comments': 6, 'score': 16, 'upvote_ratio': 0.86, 'sentiment': 0.6588})\n",
      "('1et0xcf', {'num_comments': 31, 'score': 15, 'upvote_ratio': 0.82, 'sentiment': -0.6361})\n",
      "('1et1032', {'num_comments': 484, 'score': 2664, 'upvote_ratio': 0.95, 'sentiment': 0.7184})\n",
      "('1et1fdb', {'num_comments': 7, 'score': 46, 'upvote_ratio': 0.9, 'sentiment': 0.6908})\n",
      "('1et1k5d', {'num_comments': 4, 'score': 3, 'upvote_ratio': 0.8, 'sentiment': 0.4215})\n",
      "('1et1lcn', {'num_comments': 10, 'score': 54, 'upvote_ratio': 0.93, 'sentiment': 0.0})\n",
      "('1et1sj2', {'num_comments': 13, 'score': 40, 'upvote_ratio': 0.9, 'sentiment': 0.4927})\n",
      "('1et204t', {'num_comments': 22, 'score': 26, 'upvote_ratio': 0.91, 'sentiment': 0.3489})\n",
      "('1et2441', {'num_comments': 71, 'score': 66, 'upvote_ratio': 0.89, 'sentiment': 0.0})\n",
      "('1et31dt', {'num_comments': 19, 'score': 12, 'upvote_ratio': 0.83, 'sentiment': 0.5719})\n",
      "('1et45ox', {'num_comments': 19, 'score': 3, 'upvote_ratio': 0.61, 'sentiment': 0.0})\n",
      "('1et4f8x', {'num_comments': 3, 'score': 0, 'upvote_ratio': 0.5, 'sentiment': -0.7804})\n",
      "('1et5128', {'num_comments': 13, 'score': 13, 'upvote_ratio': 0.93, 'sentiment': -0.5994})\n",
      "('1et57ak', {'num_comments': 22, 'score': 41, 'upvote_ratio': 0.94, 'sentiment': 0.296})\n",
      "('1et5mhm', {'num_comments': 1, 'score': 3, 'upvote_ratio': 0.71, 'sentiment': 0.4019})\n",
      "('1et5mzh', {'num_comments': 2, 'score': 16, 'upvote_ratio': 0.9, 'sentiment': 0.0})\n",
      "('1et5oy3', {'num_comments': 2, 'score': 7, 'upvote_ratio': 0.89, 'sentiment': -0.5574})\n",
      "('1et5x2q', {'num_comments': 2, 'score': 12, 'upvote_ratio': 0.88, 'sentiment': 0.6834})\n",
      "('1et60g8', {'num_comments': 3, 'score': 16, 'upvote_ratio': 1.0, 'sentiment': 0.9512})\n",
      "('1et64wb', {'num_comments': 2, 'score': 4, 'upvote_ratio': 1.0, 'sentiment': 0.899})\n",
      "('1et65pq', {'num_comments': 3, 'score': 2, 'upvote_ratio': 1.0, 'sentiment': -0.754})\n",
      "('1et6601', {'num_comments': 1, 'score': 2, 'upvote_ratio': 1.0, 'sentiment': 0.8807})\n",
      "('1et66h3', {'num_comments': 2, 'score': 1, 'upvote_ratio': 0.6, 'sentiment': 0.5738})\n",
      "('1et6cci', {'num_comments': 5, 'score': 0, 'upvote_ratio': 0.5, 'sentiment': 0.4215})\n",
      "('1et6csl', {'num_comments': 3, 'score': 1, 'upvote_ratio': 1.0, 'sentiment': -0.1779})\n",
      "('1et6g88', {'num_comments': 2, 'score': 3, 'upvote_ratio': 1.0, 'sentiment': 0.7297})\n",
      "('1et6hbr', {'num_comments': 4, 'score': 2, 'upvote_ratio': 0.75, 'sentiment': 0.4287})\n",
      "('1et6r9z', {'num_comments': 2, 'score': 1, 'upvote_ratio': 1.0, 'sentiment': 0.4215})\n",
      "('1et6th4', {'num_comments': 1, 'score': 2, 'upvote_ratio': 1.0, 'sentiment': 0.0})\n"
     ]
    }
   ],
   "source": [
    "# Stream post submissions in r/WallStreetBets and analyze sentiment\n",
    "subreddit = reddit.subreddit('WallStreetBets')\n",
    "submission_data = {}  # submission data storage\n",
    "\n",
    "for submission in subreddit.stream.submissions():\n",
    "    if submission.stickied:  # if post is pinned, skip it\n",
    "        continue\n",
    "    if not submission.selftext:  # if post doesn't contain text, skip it\n",
    "        continue\n",
    "    \n",
    "    sentiment = sia.polarity_scores(submission.selftext)\n",
    "    submission_data[f\"{submission.id}\"] = {\n",
    "        'num_comments': submission.num_comments,\n",
    "        'score': submission.score,\n",
    "        'upvote_ratio': submission.upvote_ratio,\n",
    "        'sentiment': sentiment['compound']\n",
    "    }\n",
    "    print(list(submission_data.items())[-1])"
   ]
  },
  {
   "cell_type": "code",
   "execution_count": null,
   "metadata": {},
   "outputs": [],
   "source": [
    "sentiments"
   ]
  },
  {
   "cell_type": "code",
   "execution_count": null,
   "metadata": {},
   "outputs": [],
   "source": [
    "# Calculate average sentiment\n",
    "average_sentiment = sum(sentiments) / len(sentiments)\n",
    "print(f\"\\nAverage Sentiment: {average_sentiment}\")"
   ]
  }
 ],
 "metadata": {
  "kernelspec": {
   "display_name": "base",
   "language": "python",
   "name": "python3"
  },
  "language_info": {
   "codemirror_mode": {
    "name": "ipython",
    "version": 3
   },
   "file_extension": ".py",
   "mimetype": "text/x-python",
   "name": "python",
   "nbconvert_exporter": "python",
   "pygments_lexer": "ipython3",
   "version": "3.12.2"
  }
 },
 "nbformat": 4,
 "nbformat_minor": 2
}
